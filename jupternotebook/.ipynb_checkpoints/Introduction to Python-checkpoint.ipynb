{
 "cells": [
  {
   "cell_type": "markdown",
   "id": "51a59bb7",
   "metadata": {},
   "source": [
    "# Baby ao tme phthon ka chila krna sekhaon \n",
    "## learn python with baba Azeem \n",
    "### basics of python\n",
    "**00_first**"
   ]
  },
  {
   "cell_type": "code",
   "execution_count": 1,
   "id": "15426eed",
   "metadata": {},
   "outputs": [
    {
     "name": "stdout",
     "output_type": "stream",
     "text": [
      "hello python\n"
     ]
    }
   ],
   "source": [
    "print('hello python')"
   ]
  },
  {
   "cell_type": "markdown",
   "id": "b8dddfda",
   "metadata": {},
   "source": [
    "**01_operators**"
   ]
  },
  {
   "cell_type": "code",
   "execution_count": 2,
   "id": "baefdef5",
   "metadata": {},
   "outputs": [
    {
     "name": "stdout",
     "output_type": "stream",
     "text": [
      "3\n",
      "9\n",
      "1\n",
      "2.0\n",
      "2\n",
      "1\n",
      "11.5\n"
     ]
    }
   ],
   "source": [
    "print(2+1)\n",
    "print(3**2) # double starik use for power \n",
    "print(3-2)\n",
    "print(4/2)\n",
    "print(4//2) # double // eleminate decimal\n",
    "print(5%2) # % use for remander\n",
    "\n",
    "# PEMDAS   Operators precidenace \n",
    "\n",
    "print((2*3)+3/2*5-2)\n",
    "\n",
    "# left to right"
   ]
  },
  {
   "cell_type": "markdown",
   "id": "ee836165",
   "metadata": {},
   "source": [
    "**02_string**"
   ]
  },
  {
   "cell_type": "markdown",
   "id": "c8866789",
   "metadata": {},
   "source": [
    "print('hello this is a single qoute')\n",
    "print(\"this is a double qoute\")\n",
    "print('''this is a tripple coute''')\n",
    "\n",
    "print(\"What's up\")"
   ]
  },
  {
   "cell_type": "markdown",
   "id": "79d97783",
   "metadata": {},
   "source": [
    "**03_comments**\n",
    "shortkey for comment \"ctrl+/\""
   ]
  },
  {
   "cell_type": "code",
   "execution_count": 3,
   "id": "3e8f5f30",
   "metadata": {},
   "outputs": [],
   "source": [
    "# print('hello this is a single qoute')\n",
    "# print(\"this is a double qoute\")\n",
    "# print('''this is a tripple coute''')\n",
    "\n",
    "# print(\"What's up\")\n",
    "\n",
    "# use ctrl+/ for select multipul lines comments"
   ]
  },
  {
   "cell_type": "markdown",
   "id": "a0fe1e4d",
   "metadata": {},
   "source": [
    "**04_variable** "
   ]
  },
  {
   "cell_type": "code",
   "execution_count": 4,
   "id": "2bf657d3",
   "metadata": {},
   "outputs": [],
   "source": [
    "#rules for variable \n",
    "# 1 variable should b letters or underscore\n",
    "# 2 variable shoukd b numbers \n",
    "# 3 spaces are not allowd \n",
    "# 4 keywords are not variable so avoid keywords\n",
    "# 5 variables are case senstive in python\n"
   ]
  },
  {
   "cell_type": "markdown",
   "id": "d75ce3f9",
   "metadata": {},
   "source": [
    "**05_input variable** "
   ]
  },
  {
   "cell_type": "code",
   "execution_count": 5,
   "id": "3ecf7cf1",
   "metadata": {},
   "outputs": [
    {
     "name": "stdout",
     "output_type": "stream",
     "text": [
      "what is your name azeem \n",
      "your age 29\n",
      "Hello !  azeem  your age is  29\n"
     ]
    }
   ],
   "source": [
    "# basket =input(\"kon sa fruite chahe ap ko \")\n",
    "# print(basket)\n",
    "\n",
    "name = input(\"what is your name \")\n",
    "# print(\"hello !\", name)\n",
    "\n",
    "age = input(\"your age \")\n",
    "msg = \"Hello ! \"\n",
    "print(msg, name, \"your age is \", age)\n"
   ]
  },
  {
   "cell_type": "markdown",
   "id": "908409c3",
   "metadata": {},
   "source": [
    "**06_conditation logic**"
   ]
  },
  {
   "cell_type": "code",
   "execution_count": 6,
   "id": "215715bc",
   "metadata": {},
   "outputs": [
    {
     "name": "stdout",
     "output_type": "stream",
     "text": [
      "please enter student age = 29\n",
      "input type before conversion \n",
      "<class 'str'>\n",
      "input type aftere conversion \n",
      "<class 'int'>\n",
      "False\n"
     ]
    }
   ],
   "source": [
    "# print(4==4)\n",
    "# print(4!=4)\n",
    "# print(4<4)\n",
    "# print(4<=4)\n",
    "\n",
    "\n",
    "#application of logical operators\n",
    "age_at_school= 5\n",
    "s_age= input(\"please enter student age = \")\n",
    "print(\"input type before conversion \")\n",
    "print( type(s_age))  #input is string \n",
    "print(\"input type aftere conversion \")\n",
    "s_age= int(s_age)   # convert input into integer\n",
    "print(type(s_age))\n",
    "print(age_at_school==s_age)"
   ]
  },
  {
   "cell_type": "markdown",
   "id": "68699b3c",
   "metadata": {},
   "source": [
    "**07_type conversion**"
   ]
  },
  {
   "cell_type": "code",
   "execution_count": 7,
   "id": "a0d221b4",
   "metadata": {},
   "outputs": [
    {
     "name": "stdout",
     "output_type": "stream",
     "text": [
      "15.5 Type of x is <class 'float'>\n",
      "please enter ur age 29\n",
      "29 Type of x is  <class 'int'>\n"
     ]
    }
   ],
   "source": [
    "x = 5\n",
    "y = 10.5\n",
    "z = \"hello\"\n",
    "    #implicit type conversion\n",
    "x = x+y\n",
    "print(x, \"Type of x is\", type(x))\n",
    "    #explicit type conversion\n",
    "x = input(\"please enter ur age \")\n",
    "print(x, \"Type of x is \", type(int(x)))"
   ]
  },
  {
   "cell_type": "markdown",
   "id": "4741cbf1",
   "metadata": {},
   "source": [
    "**08_if_else_ilif**"
   ]
  },
  {
   "cell_type": "code",
   "execution_count": 20,
   "id": "95433ff1",
   "metadata": {},
   "outputs": [
    {
     "name": "stdout",
     "output_type": "stream",
     "text": [
      "please enter student age w\n"
     ]
    },
    {
     "ename": "TypeError",
     "evalue": "'>' not supported between instances of 'str' and 'int'",
     "output_type": "error",
     "traceback": [
      "\u001b[1;31m---------------------------------------------------------------------------\u001b[0m",
      "\u001b[1;31mTypeError\u001b[0m                                 Traceback (most recent call last)",
      "\u001b[1;32m~\\AppData\\Local\\Temp/ipykernel_9772/4036289087.py\u001b[0m in \u001b[0;36m<module>\u001b[1;34m\u001b[0m\n\u001b[0;32m      4\u001b[0m \u001b[1;32mif\u001b[0m \u001b[0ms_age\u001b[0m \u001b[1;33m==\u001b[0m \u001b[0mage_at_school\u001b[0m\u001b[1;33m:\u001b[0m\u001b[1;33m\u001b[0m\u001b[1;33m\u001b[0m\u001b[0m\n\u001b[0;32m      5\u001b[0m     \u001b[0mprint\u001b[0m\u001b[1;33m(\u001b[0m\u001b[1;34m\"student can go to school\"\u001b[0m\u001b[1;33m)\u001b[0m\u001b[1;33m\u001b[0m\u001b[1;33m\u001b[0m\u001b[0m\n\u001b[1;32m----> 6\u001b[1;33m \u001b[1;32melif\u001b[0m \u001b[0ms_age\u001b[0m \u001b[1;33m>\u001b[0m \u001b[0mage_at_school\u001b[0m\u001b[1;33m:\u001b[0m\u001b[1;33m\u001b[0m\u001b[1;33m\u001b[0m\u001b[0m\n\u001b[0m\u001b[0;32m      7\u001b[0m     \u001b[0mprint\u001b[0m\u001b[1;33m(\u001b[0m\u001b[1;34m\"student should go higher school\"\u001b[0m\u001b[1;33m)\u001b[0m\u001b[1;33m\u001b[0m\u001b[1;33m\u001b[0m\u001b[0m\n\u001b[0;32m      8\u001b[0m \u001b[1;32melif\u001b[0m \u001b[0ms_age\u001b[0m\u001b[1;33m<=\u001b[0m \u001b[0mage_at_school\u001b[0m\u001b[1;33m:\u001b[0m\u001b[1;33m\u001b[0m\u001b[1;33m\u001b[0m\u001b[0m\n",
      "\u001b[1;31mTypeError\u001b[0m: '>' not supported between instances of 'str' and 'int'"
     ]
    }
   ],
   "source": [
    "age_at_school = 5\n",
    "s_age= input(\"please enter student age \")\n",
    "s_age= int(s_age)\n",
    "if s_age == age_at_school:\n",
    "    print(\"student can go to school\")\n",
    "elif s_age > age_at_school:\n",
    "    print(\"student should go higher school\")\n",
    "elif s_age<= age_at_school:\n",
    "    print(\"your baby is niku hai \")\n",
    "else:\n",
    "    print(\"student can not go to school\")"
   ]
  },
  {
   "cell_type": "markdown",
   "id": "1d738681",
   "metadata": {},
   "source": [
    "**09_functions**"
   ]
  },
  {
   "cell_type": "code",
   "execution_count": 16,
   "id": "07ad0a30",
   "metadata": {},
   "outputs": [
    {
     "name": "stdout",
     "output_type": "stream",
     "text": [
      "94\n"
     ]
    }
   ],
   "source": [
    "#defining a function method 1\n",
    "# def print_fun():\n",
    "#     print(\"this is a user define function\")\n",
    "\n",
    "# print_fun()\n",
    "\n",
    "# def calulator(age):\n",
    "#     if age == 5:\n",
    "#         print(\"u can go school\")\n",
    "#     elif age>5:\n",
    "#         print(\"u should go high school\")\n",
    "#     else:\n",
    "#         print(\"your babay is niku\")\n",
    "\n",
    "# calulator(10)\n",
    "\n",
    "# def future function\n",
    "from types import new_class\n",
    "\n",
    "\n",
    "def future_age(age):\n",
    "    new_age = age+70\n",
    "    return new_age\n",
    "    print(new_age)\n",
    "\n",
    "\n",
    "pridected_age= future_age(24)\n",
    "print(pridected_age)"
   ]
  },
  {
   "cell_type": "markdown",
   "id": "6e9cabcc",
   "metadata": {},
   "source": [
    "**10_loops**"
   ]
  },
  {
   "cell_type": "code",
   "execution_count": 10,
   "id": "ef4b9aa6",
   "metadata": {},
   "outputs": [
    {
     "name": "stdout",
     "output_type": "stream",
     "text": [
      "mon\n",
      "tue\n",
      "wed\n",
      "thu\n"
     ]
    }
   ],
   "source": [
    "# example of while loop\n",
    "# x = 0\n",
    "# while (x <= 5):\n",
    "#     print(x)\n",
    "#     x = x+1\n",
    "\n",
    "# example of for loop\n",
    "\n",
    "# for x in range(1,10):\n",
    "#     print(x)\n",
    "\n",
    "# array\n",
    "days =[\"mon\",\"tue\",\"wed\",\"thu\",\"fri\",\"sat\",\"sun\"]\n",
    "for d in days:\n",
    "    if(d == \"fri\"): break\n",
    "    print(d)\n"
   ]
  },
  {
   "cell_type": "markdown",
   "id": "1062317c",
   "metadata": {},
   "source": [
    "**11_libraries**"
   ]
  },
  {
   "cell_type": "code",
   "execution_count": 11,
   "id": "96523194",
   "metadata": {},
   "outputs": [
    {
     "name": "stdout",
     "output_type": "stream",
     "text": [
      "the value of pi is 3.141592653589793\n",
      "mean of x is 130\n"
     ]
    }
   ],
   "source": [
    "#if u want to print value of pi\n",
    "import math\n",
    "import statistics\n",
    "print(\"the value of pi is\", math.pi)\n",
    "\n",
    "x = [120,130,145]\n",
    "print(\"mean of x is\", statistics.median(x))"
   ]
  },
  {
   "cell_type": "markdown",
   "id": "251d7c3a",
   "metadata": {},
   "source": [
    "**12_trouble shoiting**"
   ]
  },
  {
   "cell_type": "code",
   "execution_count": 12,
   "id": "be6c5e29",
   "metadata": {},
   "outputs": [],
   "source": [
    "# print(hello python)     Syntax Error\n",
    "\n",
    "# print(25/0)       Runtime Error\n",
    "\n",
    "# name= \"awais\"\n",
    "# print(\"hello name\")   sementic error"
   ]
  },
  {
   "cell_type": "code",
   "execution_count": null,
   "id": "069ca3c1",
   "metadata": {},
   "outputs": [],
   "source": []
  }
 ],
 "metadata": {
  "kernelspec": {
   "display_name": "Python 3 (ipykernel)",
   "language": "python",
   "name": "python3"
  },
  "language_info": {
   "codemirror_mode": {
    "name": "ipython",
    "version": 3
   },
   "file_extension": ".py",
   "mimetype": "text/x-python",
   "name": "python",
   "nbconvert_exporter": "python",
   "pygments_lexer": "ipython3",
   "version": "3.9.7"
  }
 },
 "nbformat": 4,
 "nbformat_minor": 5
}
