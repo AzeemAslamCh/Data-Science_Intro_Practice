{
 "cells": [
  {
   "cell_type": "markdown",
   "id": "63e1859d",
   "metadata": {},
   "source": [
    "# Body mass index\n",
    "# BMI \n",
    "# Input weight and Hight "
   ]
  },
  {
   "cell_type": "code",
   "execution_count": 1,
   "id": "ab1a9aa2",
   "metadata": {},
   "outputs": [
    {
     "name": "stdout",
     "output_type": "stream",
     "text": [
      "Enter your hight 1.75\n"
     ]
    }
   ],
   "source": [
    "hight = input(\"Enter your hight \")"
   ]
  },
  {
   "cell_type": "code",
   "execution_count": 2,
   "id": "877b9a8a",
   "metadata": {},
   "outputs": [
    {
     "data": {
      "text/plain": [
       "float"
      ]
     },
     "execution_count": 2,
     "metadata": {},
     "output_type": "execute_result"
    }
   ],
   "source": [
    "hight = float(hight)\n",
    "type(hight)"
   ]
  },
  {
   "cell_type": "code",
   "execution_count": 3,
   "id": "535df001",
   "metadata": {
    "scrolled": true
   },
   "outputs": [
    {
     "name": "stdout",
     "output_type": "stream",
     "text": [
      "Enter your weight 80\n"
     ]
    }
   ],
   "source": [
    "weight = input(\"Enter your weight \")"
   ]
  },
  {
   "cell_type": "code",
   "execution_count": 4,
   "id": "ed1139e0",
   "metadata": {},
   "outputs": [
    {
     "data": {
      "text/plain": [
       "float"
      ]
     },
     "execution_count": 4,
     "metadata": {},
     "output_type": "execute_result"
    }
   ],
   "source": [
    "weight = float(weight)\n",
    "type(weight)"
   ]
  },
  {
   "cell_type": "code",
   "execution_count": 5,
   "id": "cc22e1ae",
   "metadata": {},
   "outputs": [
    {
     "name": "stdout",
     "output_type": "stream",
     "text": [
      "What is your name awais\n"
     ]
    }
   ],
   "source": [
    "name = input(\"What is your name \")"
   ]
  },
  {
   "cell_type": "code",
   "execution_count": 6,
   "id": "7b1615be",
   "metadata": {},
   "outputs": [
    {
     "data": {
      "text/plain": [
       "26.122448979591837"
      ]
     },
     "execution_count": 6,
     "metadata": {},
     "output_type": "execute_result"
    }
   ],
   "source": [
    "bmi = weight/hight**2\n",
    "bmi"
   ]
  },
  {
   "cell_type": "code",
   "execution_count": 8,
   "id": "04441499",
   "metadata": {},
   "outputs": [
    {
     "name": "stdout",
     "output_type": "stream",
     "text": [
      "My name is  awais  and my BMI is 26.122448979591837\n"
     ]
    }
   ],
   "source": [
    "print(\"My name is \", name, \" and my BMI is\" ,bmi)"
   ]
  },
  {
   "cell_type": "code",
   "execution_count": null,
   "id": "c2414b56",
   "metadata": {},
   "outputs": [],
   "source": []
  }
 ],
 "metadata": {
  "kernelspec": {
   "display_name": "Python 3 (ipykernel)",
   "language": "python",
   "name": "python3"
  },
  "language_info": {
   "codemirror_mode": {
    "name": "ipython",
    "version": 3
   },
   "file_extension": ".py",
   "mimetype": "text/x-python",
   "name": "python",
   "nbconvert_exporter": "python",
   "pygments_lexer": "ipython3",
   "version": "3.9.7"
  }
 },
 "nbformat": 4,
 "nbformat_minor": 5
}
